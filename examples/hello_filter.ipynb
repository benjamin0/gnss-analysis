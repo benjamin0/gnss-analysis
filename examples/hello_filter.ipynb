{
 "cells": [
  {
   "cell_type": "code",
   "execution_count": 5,
   "metadata": {
    "collapsed": false
   },
   "outputs": [
    {
     "name": "stdout",
     "output_type": "stream",
     "text": [
      "Populating the interactive namespace from numpy and matplotlib\n",
      "The autoreload extension is already loaded. To reload it, use:\n",
      "  %reload_ext autoreload\n"
     ]
    }
   ],
   "source": [
    "%pylab inline\n",
    "%load_ext autoreload\n",
    "%autoreload 2"
   ]
  },
  {
   "cell_type": "code",
   "execution_count": 6,
   "metadata": {
    "collapsed": true
   },
   "outputs": [],
   "source": [
    "from gnss_analysis.io import rinex\n",
    "from gnss_analysis import filters, solution, locations\n",
    "import matplotlib.pyplot as plt\n",
    "import numpy as np"
   ]
  },
  {
   "cell_type": "code",
   "execution_count": 7,
   "metadata": {
    "collapsed": true
   },
   "outputs": [],
   "source": [
    "rover_observation_file = '../tests/test_data/short_baseline_cors_stable_satellites/seat0010/seat0010.16o'\n",
    "rover_navigation_file = '../tests/test_data/short_baseline_cors_stable_satellites/seat0010/seat0010.16n'\n",
    "base_observation_file = '../tests/test_data/short_baseline_cors_stable_satellites/ssho0010/ssho0010.16o'\n",
    "observations = rinex.simulate_from_rinex(rover_observation_file, rover_navigation_file, base_observation_file)"
   ]
  },
  {
   "cell_type": "code",
   "execution_count": 8,
   "metadata": {
    "collapsed": false
   },
   "outputs": [],
   "source": [
    "rover_lines = rinex.iter_padded_lines(rover_observation_file)\n",
    "rover_header = rinex.parse_header(rover_lines)\n",
    "base_lines = rinex.iter_padded_lines(base_observation_file)\n",
    "base_header = rinex.parse_header(base_lines)\n",
    "rover_pos = np.array([rover_header['x'],\n",
    "                    rover_header['y'],\n",
    "                    rover_header['z']])\n",
    "base_pos = np.array([base_header['x'],\n",
    "                   base_header['y'],\n",
    "                   base_header['z']])\n",
    "expected_baseline = rover_pos - base_pos"
   ]
  },
  {
   "cell_type": "code",
   "execution_count": 9,
   "metadata": {
    "collapsed": true
   },
   "outputs": [],
   "source": [
    "dgnss_filter = filters.KalmanFilter(base_pos=base_pos,\n",
    "                                    sig_x=2.,\n",
    "                                    sig_z=10.,\n",
    "                                    sig_cp=0.02,\n",
    "                                    sig_pr=3.)"
   ]
  },
  {
   "cell_type": "code",
   "execution_count": 10,
   "metadata": {
    "collapsed": false
   },
   "outputs": [],
   "source": [
    "# Can't handle dropped sats yet so only run for 390 seconds\n",
    "nIterations = 390\n",
    "baselines = np.zeros((nIterations, 3))\n",
    "for i, x in enumerate(solution.solution(observations, dgnss_filter)):\n",
    "    if i == nIterations:\n",
    "        break\n",
    "    baselines[i] = x['rover_pos'].get('baseline', None)"
   ]
  },
  {
   "cell_type": "code",
   "execution_count": 11,
   "metadata": {
    "collapsed": false
   },
   "outputs": [
    {
     "data": {
      "text/plain": [
       "<matplotlib.text.Text at 0x11652bc90>"
      ]
     },
     "execution_count": 11,
     "metadata": {},
     "output_type": "execute_result"
    },
    {
     "data": {
      "image/png": "[encoded data removed]",
      "text/plain": [
       "<matplotlib.figure.Figure at 0x1162fb910>"
      ]
     },
     "metadata": {},
     "output_type": "display_data"
    }
   ],
   "source": [
    "plt.plot(baselines - expected_baseline)\n",
    "plt.xlabel('time (sec)')\n",
    "plt.ylabel('error (m)')"
   ]
  }
 ],
 "metadata": {
  "kernelspec": {
   "display_name": "Python 2",
   "language": "python",
   "name": "python2"
  },
  "language_info": {
   "codemirror_mode": {
    "name": "ipython",
    "version": 2
   },
   "file_extension": ".py",
   "mimetype": "text/x-python",
   "name": "python",
   "nbconvert_exporter": "python",
   "pygments_lexer": "ipython2",
   "version": "2.7.10"
  }
 },
 "nbformat": 4,
 "nbformat_minor": 0
}
